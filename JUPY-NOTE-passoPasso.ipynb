{
 "cells": [
  {
   "cell_type": "markdown",
   "metadata": {},
   "source": [
    "# 1. Criar uma conta no Heroku"
   ]
  },
  {
   "cell_type": "markdown",
   "metadata": {},
   "source": [
    "# 2. Instalar Heroku via CLI"
   ]
  },
  {
   "cell_type": "markdown",
   "metadata": {},
   "source": [
    "# 3. Criar Repositório do projeto \n",
    "## ou acessar um já existente..."
   ]
  },
  {
   "cell_type": "markdown",
   "metadata": {},
   "source": [
    "# 4. Criar _Procfile_ e _requirements.txt_\n",
    "## O arquivo **Procfile**, \n",
    "> Vai indicar como o programa será iniciado, ou seja, qual o comando para iniciar o projeto. \n",
    "Dado um arquivo Procfile, seguimos como exemplo o seguinte conteúdo:\n",
    "\n",
    "> ### Exemplo Simples\n",
    ">> worker: python3 bot.py \n",
    "\n",
    "> No exemplo acima, dizemos que o *dyno* do projeto é **worker** (existe **web** e **worker**, que são utlizados para propósitos dependendo do funcionamento do projeto), e nele explicitamos que a maneira de executar o projeto é como se fosse uma aplicação python simples.\n",
    "\n",
    "> ### Exemplo com gunicorn:\n",
    "\n",
    ">> web: gunicorn app:app\n",
    "\n",
    "> No exemplo acima, dizemos que o *dyno* do projeto é **web** , e dizemos que a maneira correta de iniciar o projeto é com o programa gunicorn.\n",
    "\n",
    "\n",
    "\n",
    "## O arquivo **requirements.txt**\n",
    "> Vai indicar todas as dependências para o fucionamento do projeto, ou seja, quando a \"computador do Heroku\" for iniciar o projeto, primeiro ele verifica as depêndencias que estão listadas no *requirements.txt* e baixa uma por uma. Vale ressaltar que devemos explicar a depêndencia e sua respectiva versão. \n",
    "Dado um arquivo *requirements.txt*, seguimos como exemplo o seguinte conteúdo:\n",
    "\n",
    ">> \n",
    "aniso8601==2.0.1\n",
    ">> \n",
    "beautifulsoup4==4.6.0\n",
    ">> \n",
    "bs4==0.0.1\n",
    ">> \n",
    "certifi==2018.1.18\n",
    ">> \n",
    "chardet==3.0.4"
   ]
  },
  {
   "cell_type": "markdown",
   "metadata": {},
   "source": [
    "# . Deploy do Projeto\n",
    "\n",
    "## * git init\n",
    "Inicializar o versionamento .git no repositório \n",
    "\n",
    "## * git:remote -a NOME-DO-PROJETO-NO-HEROKU\n",
    "Associar o versinamento git, a uma aplicação no Heroku \n",
    "\n",
    "## * git add *\n",
    "Atualizar as últimas modificações no projeto\n",
    "\n",
    "## * git commit -am \"make it better\"\n",
    "Criar uma versão contendo as últimas modificações\n",
    "\n",
    "## * git push heroku master\n",
    "Enviar a ultima versão do projeto ao Heroku... Nesse passo o seu projeto já está nos servidores do Heroku"
   ]
  }
 ],
 "metadata": {
  "kernelspec": {
   "display_name": "Python 3",
   "language": "python",
   "name": "python3"
  },
  "language_info": {
   "codemirror_mode": {
    "name": "ipython",
    "version": 2
   },
   "file_extension": ".py",
   "mimetype": "text/x-python",
   "name": "python",
   "nbconvert_exporter": "python",
   "pygments_lexer": "ipython2",
   "version": "2.7.13"
  }
 },
 "nbformat": 4,
 "nbformat_minor": 2
}
